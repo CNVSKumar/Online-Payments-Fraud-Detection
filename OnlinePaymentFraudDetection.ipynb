{
 "cells": [
  {
   "cell_type": "code",
   "execution_count": 4,
   "id": "9d9f9ab5-4f5c-42d1-87cb-ae1ab875bec7",
   "metadata": {},
   "outputs": [
    {
     "name": "stdout",
     "output_type": "stream",
     "text": [
      "Accuracy 1.0\n",
      "F11.0\n",
      "Mean Absolute Error: 3.0183725963515843e-15\n",
      "Mean Squared Error: 2.0832191435390323e-27\n",
      "R-squared: 1.0\n"
     ]
    }
   ],
   "source": [
    "import pandas as pd\n",
    "import numpy as np\n",
    "import matplotlib.pyplot as plt\n",
    "from sklearn.model_selection import train_test_split\n",
    "from sklearn.preprocessing import StandardScaler, LabelEncoder\n",
    "from sklearn.linear_model import LinearRegression\n",
    "from sklearn.tree import DecisionTreeClassifier\n",
    "from sklearn.metrics import accuracy_score, f1_score,mean_absolute_error, mean_squared_error, r2_score\n",
    "df=pd.read_csv(r\"C:\\Users\\W.10\\Desktop\\23481A4239\\OnlinePaymentFraudDetection.csv\")\n",
    "X=df.drop(columns=['step','type','amount','nameOrig','oldbalanceOrg','newbalanceOrig','nameDest','oldbalanceDest','newbalanceDest'])\n",
    "y=df['isFraud']\n",
    "label_encoder = LabelEncoder()\n",
    "y= label_encoder.fit_transform(y)\n",
    "X_train,X_test,y_train,y_test=train_test_split(X,y,test_size=0.2,random_state=42)\n",
    "scaler=StandardScaler()\n",
    "X_train_scaler=scaler.fit_transform(X_train)\n",
    "X_test_scaler=scaler.transform(X_test)\n",
    "LR=LinearRegression()\n",
    "LR.fit(X_train_scaler,y_train)\n",
    "Y_pred=LR.predict(X_test_scaler)\n",
    "DT=DecisionTreeClassifier()\n",
    "DT.fit(X_train,y_train)\n",
    "y_pred=DT.predict(X_test)\n",
    "print(f\"Accuracy {accuracy_score(y_test,y_pred)}\")\n",
    "f1 = f1_score(y_test, y_pred, average='weighted')\n",
    "print(f\"F1{f1}\")\n",
    "mae = mean_absolute_error(y_test,Y_pred)\n",
    "mse = mean_squared_error(y_test,Y_pred)\n",
    "r2 = r2_score(y_test,Y_pred)\n",
    "print(f\"Mean Absolute Error: {mae}\")\n",
    "print(f\"Mean Squared Error: {mse}\")\n",
    "print(f\"R-squared: {r2}\")"
   ]
  }
 ],
 "metadata": {
  "kernelspec": {
   "display_name": "Python 3 (ipykernel)",
   "language": "python",
   "name": "python3"
  },
  "language_info": {
   "codemirror_mode": {
    "name": "ipython",
    "version": 3
   },
   "file_extension": ".py",
   "mimetype": "text/x-python",
   "name": "python",
   "nbconvert_exporter": "python",
   "pygments_lexer": "ipython3",
   "version": "3.12.7"
  }
 },
 "nbformat": 4,
 "nbformat_minor": 5
}
